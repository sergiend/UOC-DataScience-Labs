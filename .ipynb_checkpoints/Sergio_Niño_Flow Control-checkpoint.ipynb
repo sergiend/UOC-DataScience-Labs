{
 "cells": [
  {
   "cell_type": "markdown",
   "id": "1640de97-6f20-4ad3-8b4b-6d7a85162447",
   "metadata": {},
   "source": [
    "## Ejercicio 1"
   ]
  },
  {
   "cell_type": "code",
   "execution_count": 189,
   "id": "6c294466-dfef-445f-b64c-9a787b2a9a83",
   "metadata": {},
   "outputs": [
    {
     "data": {
      "text/plain": [
       "[200, 300, 400, 500, 600, 700, 800]"
      ]
     },
     "execution_count": 189,
     "metadata": {},
     "output_type": "execute_result"
    }
   ],
   "source": [
    "# Lista de las ventas mensuales\n",
    "sales_data = [200, 300, 400, 500, 600, 700, 800]\n",
    "sales_data"
   ]
  },
  {
   "cell_type": "code",
   "execution_count": 191,
   "id": "43a06b80-da40-4932-a6f8-d49f3220ab71",
   "metadata": {},
   "outputs": [
    {
     "data": {
      "text/plain": [
       "0"
      ]
     },
     "execution_count": 191,
     "metadata": {},
     "output_type": "execute_result"
    }
   ],
   "source": [
    "# La variable max_sales guardará el valor máximo de las ventas\n",
    "max_sale = 0\n",
    "max_sale"
   ]
  },
  {
   "cell_type": "code",
   "execution_count": 193,
   "id": "8f488bad-27f6-44c8-bf11-fa66904aea20",
   "metadata": {},
   "outputs": [
    {
     "data": {
      "text/plain": [
       "0"
      ]
     },
     "execution_count": 193,
     "metadata": {},
     "output_type": "execute_result"
    }
   ],
   "source": [
    "# La variable total_sales guardará el valor total de la suma de la semana de ventas\n",
    "total_sale = 0\n",
    "total_sale"
   ]
  },
  {
   "cell_type": "code",
   "execution_count": 195,
   "id": "186bae6e-06ef-48fd-a083-68c14abdebdd",
   "metadata": {},
   "outputs": [
    {
     "data": {
      "text/plain": [
       "(1, 0)"
      ]
     },
     "execution_count": 195,
     "metadata": {},
     "output_type": "execute_result"
    }
   ],
   "source": [
    "# La variable day_sale guardará el valor del día de la mayor venta\n",
    "day_sale = 0\n",
    "day = 1\n",
    "day, day_sale"
   ]
  },
  {
   "cell_type": "code",
   "execution_count": 197,
   "id": "b6b36236-b9ea-4dcc-92bf-4ad07ff17c55",
   "metadata": {},
   "outputs": [
    {
     "data": {
      "text/plain": [
       "3500"
      ]
     },
     "execution_count": 197,
     "metadata": {},
     "output_type": "execute_result"
    }
   ],
   "source": [
    "# Creo un bucle for para calcular el valor total de las ventas de la semana\n",
    "for lista in sales_data:\n",
    "    total_sale += lista\n",
    "total_sale"
   ]
  },
  {
   "cell_type": "code",
   "execution_count": 199,
   "id": "7037422c-cdb2-4fef-9e22-e253b1b9214f",
   "metadata": {},
   "outputs": [
    {
     "name": "stdout",
     "output_type": "stream",
     "text": [
      "valor 800 dia 7\n"
     ]
    }
   ],
   "source": [
    "# Creo un bucle para calcular el valor máximo vendido en el histórico de las ventas de la semana\n",
    "for lista in sales_data:\n",
    "    if max_sale < lista:\n",
    "        max_sale = lista\n",
    "        day_sale = day\n",
    "    day = day + 1\n",
    "        \n",
    "print(f\"valor {max_sale} dia {day_sale}\")"
   ]
  },
  {
   "cell_type": "code",
   "execution_count": 82,
   "id": "0a4d6e73-b969-4caa-a47b-5ce1fa5bf7f2",
   "metadata": {},
   "outputs": [
    {
     "name": "stdout",
     "output_type": "stream",
     "text": [
      "El valor total de las ventas fue 3500 y el valor máximo de la venta fue 800 realizado el 7 día\n"
     ]
    }
   ],
   "source": [
    "# Genero una respuesta adecuada para informar al usuario los valores encontrados\n",
    "print(f\"El valor total de las ventas fue {total_sale} y el valor máximo de la venta fue {max_sale} realizado el {day_sale} día\")"
   ]
  },
  {
   "cell_type": "markdown",
   "id": "b22c9dad-ea26-4271-891d-1262b64fd1bc",
   "metadata": {},
   "source": [
    "## Ejercico 2"
   ]
  },
  {
   "cell_type": "code",
   "execution_count": 62,
   "id": "e6af0c05-9f4f-4936-9a35-36f938402c3f",
   "metadata": {},
   "outputs": [
    {
     "data": {
      "text/plain": [
       "'12345678909876dcvbnhjytfgvb+'"
      ]
     },
     "execution_count": 62,
     "metadata": {},
     "output_type": "execute_result"
    }
   ],
   "source": [
    "# Asigno el valor a la contraseña\n",
    "password = \"12345678909876dcvbnhjytfgvb+\"\n",
    "password"
   ]
  },
  {
   "cell_type": "code",
   "execution_count": 64,
   "id": "ea8b39ce-4316-4a12-8756-a1f99e006cf5",
   "metadata": {},
   "outputs": [
    {
     "name": "stdout",
     "output_type": "stream",
     "text": [
      "La contraseña tiene 28 y es mayor que 12\n"
     ]
    }
   ],
   "source": [
    "# Valido si la cantidad de caracteres es mayor a 12\n",
    "if(len(password) > 12):\n",
    "    print(f\"La contraseña tiene {len(password)} y es mayor que 12\")"
   ]
  },
  {
   "cell_type": "code",
   "execution_count": 98,
   "id": "7c6cdf74-5b74-43d4-996e-82ca8020018c",
   "metadata": {},
   "outputs": [
    {
     "ename": "TypeError",
     "evalue": "cannot unpack non-iterable int object",
     "output_type": "error",
     "traceback": [
      "\u001b[0;31m---------------------------------------------------------------------------\u001b[0m",
      "\u001b[0;31mTypeError\u001b[0m                                 Traceback (most recent call last)",
      "Cell \u001b[0;32mIn[98], line 7\u001b[0m\n\u001b[1;32m      4\u001b[0m day_sale \u001b[38;5;241m=\u001b[39m \u001b[38;5;241m0\u001b[39m  \u001b[38;5;66;03m# Inicializa el día en el que se hace la venta máxima\u001b[39;00m\n\u001b[1;32m      5\u001b[0m day \u001b[38;5;241m=\u001b[39m \u001b[38;5;241m0\u001b[39m       \u001b[38;5;66;03m# Inicializa el contador de días\u001b[39;00m\n\u001b[0;32m----> 7\u001b[0m \u001b[38;5;28;01mfor\u001b[39;00m day_index, sale \u001b[38;5;129;01min\u001b[39;00m sales_data:\n\u001b[1;32m      8\u001b[0m     \u001b[38;5;28mprint\u001b[39m(\u001b[38;5;124mf\u001b[39m\u001b[38;5;124m\"\u001b[39m\u001b[38;5;124mValor de venta máxima: \u001b[39m\u001b[38;5;132;01m{\u001b[39;00msale\u001b[38;5;132;01m}\u001b[39;00m\u001b[38;5;124m en el día \u001b[39m\u001b[38;5;132;01m{\u001b[39;00mday\u001b[38;5;132;01m}\u001b[39;00m\u001b[38;5;124m\"\u001b[39m)\n",
      "\u001b[0;31mTypeError\u001b[0m: cannot unpack non-iterable int object"
     ]
    }
   ],
   "source": [
    "sales_data = [120, 350, 270, 450, 300]  # Ejemplo de datos de ventas\n",
    "\n",
    "max_sale = 0  # Inicializa la venta máxima\n",
    "day_sale = 0  # Inicializa el día en el que se hace la venta máxima\n",
    "day = 1       # Inicializa el contador de días\n",
    "\n",
    "for sale in sales_data:\n",
    "    print(f\"Valor de venta máxima: {sale} en el día {day}\")\n"
   ]
  },
  {
   "cell_type": "markdown",
   "id": "8d6d7efa-3948-41b6-bb11-905a3d605a8d",
   "metadata": {},
   "source": [
    "### Ejercicio: Clasificación de Huevos por Tamaño\n",
    "\n",
    "\n",
    "\n",
    "Imaginemos que estamos construyendo un programa para un robot que clasifica huevos por tamaño. El brazo robótico recibe información de una báscula que indica, en gramos, el peso del huevo a clasificar. Dependiendo del peso, el brazo debe colocar el huevo en una caja específica.\n",
    "\n",
    "\n",
    "\n",
    "Las reglas para la clasificación son las siguientes:\n",
    "\n",
    "\n",
    "\n",
    "- **Caja S** (pequeña): peso menor de 53 gramos.\n",
    "\n",
    "- **Caja M** (mediana): peso mayor o igual a 53 gramos y menor de 63 gramos.\n",
    "\n",
    "- **Caja L** (grande): peso mayor o igual a 63 gramos y menor de 73 gramos.\n",
    "\n",
    "- **Caja XL** (súper grande): peso mayor o igual a 73 gramos.\n",
    "\n",
    "\n",
    "\n",
    "**Desafío Adicional**:\n",
    "\n",
    "\n",
    "\n",
    "1. Además de clasificar los huevos, el programa debe contar cuántos huevos hay en cada categoría después de clasificar un conjunto de huevos.\n",
    "\n",
    "2. Los pesos de los huevos se proporcionan en una lista. Si un peso es negativo o cero, se debe imprimir un mensaje de error indicando que el peso no es válido, y se debe ignorar ese peso en la clasificación.\n",
    "\n",
    "\n",
    "\n",
    "**Requisitos**:\n",
    "\n",
    "\n",
    "\n",
    "1. **Entrada**: Crea una lista llamada `pesos_huevos` que contenga los pesos de varios huevos (en gramos).\n",
    "\n",
    "2. **Clasificación**: Utiliza un bucle para clasificar cada huevo en la caja correspondiente.\n",
    "\n",
    "3. **Contadores**: Mantén un conteo de cuántos huevos hay en cada categoría.\n",
    "\n",
    "4. **Salida**: Imprime el número total de huevos en cada caja."
   ]
  },
  {
   "cell_type": "code",
   "execution_count": 149,
   "id": "8f261176-d461-4e34-82cf-292810a28598",
   "metadata": {},
   "outputs": [
    {
     "data": {
      "text/plain": [
       "[50, 55, 62, 70, 90, 0, -5, 65, 80]"
      ]
     },
     "execution_count": 149,
     "metadata": {},
     "output_type": "execute_result"
    }
   ],
   "source": [
    "# Lista de pesos de los huevos en gramos\n",
    "\n",
    "esos_huevos = [50, 55, 62, 70, 90, 0, -5, 65, 80]\n",
    "pesos_huevos"
   ]
  },
  {
   "cell_type": "code",
   "execution_count": 183,
   "id": "9e3a297d-37f7-42b4-8f76-f87289f19f5e",
   "metadata": {},
   "outputs": [
    {
     "name": "stdout",
     "output_type": "stream",
     "text": [
      "El peso 50 del huevo, tamaño S\n",
      "El peso 55 del huevo, tamaño M\n",
      "El peso 62 del huevo, tamaño M\n",
      "El peso 70 del huevo, tamaño L\n",
      "El peso 73 del huevo, tamaño XL\n",
      "Hay error en el peso de 0 del huevo, el huevo se ignorará\n",
      "Hay error en el peso de -5 del huevo, el huevo se ignorará\n",
      "El peso 65 del huevo, tamaño L\n",
      "El peso 80 del huevo, tamaño XL\n",
      "[50, 55, 62, 70, 73, 0, -5, 65, 80]\n",
      "\n",
      "\n",
      "Hay 1 huevos S, 2 huevos M, 2 huevos L y 2 huevos XL\n"
     ]
    }
   ],
   "source": [
    "# Comenzamos la clasificación recorriendo la lista de los pesos de los huevos con bucle for\n",
    "pesos_huevos = [50, 55, 62, 70, 73, 0, -5, 65, 80]\n",
    "pesos_huevos\n",
    "\n",
    "pesoS = 0\n",
    "pesoM = 0\n",
    "pesoL = 0\n",
    "pesoXL = 0\n",
    "\n",
    "for peso in pesos_huevos:\n",
    "    if peso <= 0:\n",
    "        print(f\"Hay error en el peso de {peso} del huevo, el huevo se ignorará\")\n",
    "    elif peso > 0 and peso < 53:\n",
    "        pesoS += 1\n",
    "        print(f\"El peso {peso} del huevo, tamaño S\")\n",
    "    elif peso>= 53 and peso < 63:\n",
    "        pesoM += 1\n",
    "        print(f\"El peso {peso} del huevo, tamaño M\")\n",
    "    elif peso >= 63 and peso < 73:\n",
    "        pesoL += 1\n",
    "        print(f\"El peso {peso} del huevo, tamaño L\")\n",
    "    else:\n",
    "        pesoXL += 1\n",
    "        print(f\"El peso {peso} del huevo, tamaño XL\")\n",
    "\n",
    "print(pesos_huevos)\n",
    "print(f\"\\n\\nHay {pesoS} huevos S, {pesoM} huevos M, {pesoL} huevos L y {pesoXL} huevos XL\")\n",
    "    "
   ]
  },
  {
   "cell_type": "code",
   "execution_count": null,
   "id": "bfdf30e1-8b44-4b6d-af84-a9cfb4f79d3f",
   "metadata": {},
   "outputs": [],
   "source": []
  }
 ],
 "metadata": {
  "kernelspec": {
   "display_name": "Python 3 (ipykernel)",
   "language": "python",
   "name": "python3"
  },
  "language_info": {
   "codemirror_mode": {
    "name": "ipython",
    "version": 3
   },
   "file_extension": ".py",
   "mimetype": "text/x-python",
   "name": "python",
   "nbconvert_exporter": "python",
   "pygments_lexer": "ipython3",
   "version": "3.12.4"
  }
 },
 "nbformat": 4,
 "nbformat_minor": 5
}
