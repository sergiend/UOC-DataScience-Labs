{
 "cells": [
  {
   "cell_type": "markdown",
   "metadata": {},
   "source": [
    "## Instrucciones para el Laboratorio\n",
    "\n",
    "Para cada ejercicio del laboratorio, se requiere seguir estos pasos:\n",
    "\n",
    "1. **Desarrollo del Pseudocódigo**: Antes de comenzar a programar, elabora un pseudocódigo para cada solución. El pseudocódigo debe detallar la lógica y los pasos necesarios para resolver el problema de manera clara y estructurada. Esto te ayudará a comprender mejor la solución antes de codificarla.\n",
    "\n",
    "2. **Implementación del Programa**: Una vez que tengas el pseudocódigo listo y revisado, procede a programar la solución en Python. Asegúrate de que tu código siga la lógica que has definido en el pseudocódigo y cumpla con los requisitos especificados en cada ejercicio.\n",
    "\n",
    "Recuerda que una buena planificación a través del pseudocódigo facilitará el proceso de programación y te permitirá identificar posibles errores antes de implementar el código."
   ]
  },
  {
   "cell_type": "markdown",
   "metadata": {},
   "source": [
    "## Ejercicio: Transformación de Palabras\n",
    "\n",
    "Dada la lista de palabras:"
   ]
  },
  {
   "cell_type": "code",
   "execution_count": 13,
   "metadata": {},
   "outputs": [],
   "source": [
    "words = ['play', 'filling', 'bar', 'theatre', 'easygoing', 'date', 'lead', 'that', 'story',  'island']"
   ]
  },
  {
   "cell_type": "markdown",
   "metadata": {},
   "source": [
    "1. **Imprimir Letras Mayúsculas**: Escribe un programa que imprima todas las letras de cada palabra en la lista en mayúsculas, separando cada letra por una coma."
   ]
  },
  {
   "cell_type": "code",
   "execution_count": null,
   "metadata": {},
   "outputs": [],
   "source": [
    "# OBJETIVO: Recorrer cada letra de cada una de las palabras que están en la lista words, después transformar cada letra a mayúscula e \n",
    "# imprimirla separada por coma\n",
    "\n",
    "# Paso 1: Recorrer cada una de las plabras dentro de la lista words\n",
    "# Paso 2: Recorrer cada letra de cada una de las palabras de la lista words\n",
    "# Paso 3: Transoformar a cada letra mayúscula\n",
    "# Paso 4: Listarlas separadas por coma"
   ]
  },
  {
   "cell_type": "code",
   "execution_count": 9,
   "metadata": {},
   "outputs": [
    {
     "name": "stdout",
     "output_type": "stream",
     "text": [
      "P,L,A,Y,\n",
      "F,I,L,L,I,N,G,\n",
      "B,A,R,\n",
      "T,H,E,A,T,R,E,\n",
      "E,A,S,Y,G,O,I,N,G,\n",
      "D,A,T,E,\n",
      "L,E,A,D,\n",
      "T,H,A,T,\n",
      "S,T,O,R,Y,\n",
      "I,S,L,A,N,D,\n"
     ]
    }
   ],
   "source": [
    "# Comenzamos a recorrer la lista de palabras\n",
    "for palabra in words:\n",
    "    #Comenzamos a recorrer las letras de cada palabra\n",
    "    for letra in palabra:\n",
    "        # Transformamos a mayúsculas cada letra\n",
    "        letra_mayus = letra.upper()\n",
    "        # Imprimimos cada letra en mayúscula y quitamos el salto de línea\n",
    "        print(f\"{letra_mayus},\", end=\"\")\n",
    "    # Agregamos un salto de línea después de la última letra de cada palabra\n",
    "    print(f\"\\n\", end=\"\")"
   ]
  },
  {
   "cell_type": "markdown",
   "metadata": {},
   "source": [
    "2. **Crear una Nueva Lista**: Genera una nueva lista que contenga solo las palabras que tengan 5 o más letras. Luego, imprime esta nueva lista."
   ]
  },
  {
   "cell_type": "code",
   "execution_count": null,
   "metadata": {},
   "outputs": [],
   "source": [
    "# OBJETIVO: Contar las letras de cada una de las palabras que están en la lista words, y si la cantidad de letras es mayor o igual a 5\n",
    "# guarde la palabra en una nueva lista y despues imprimila\n",
    "\n",
    "# Paso 1: Recorrer cada una de las plabras dentro de la lista words\n",
    "# Paso 2: Contar letra de cada una de las palabras de la lista words\n",
    "# Paso 3: Si la palabra tiene 5 o más letras, guardelas en una nuva lista\n",
    "# Paso 4: Imprima la nueva lista"
   ]
  },
  {
   "cell_type": "code",
   "execution_count": 11,
   "metadata": {},
   "outputs": [
    {
     "name": "stdout",
     "output_type": "stream",
     "text": [
      "Nueva lista con palabras de mas de 5 letras: ['filling', 'theatre', 'easygoing', 'story', 'island']\n"
     ]
    }
   ],
   "source": [
    "#Declaramos la nueva lista vacía\n",
    "nueva_lista = []\n",
    "# Recorremos la lista de palabras\n",
    "for palabra in words:\n",
    "    #Contamos la cantidad de letras en la palabra y validamos que sea mayor o igual a 5\n",
    "    if(len(palabra) >= 5):\n",
    "        nueva_lista.append(palabra)\n",
    "\n",
    "# Imprimio la nueva lista\n",
    "print(f\"Nueva lista con palabras de mas de 5 letras: {nueva_lista}\")"
   ]
  },
  {
   "cell_type": "markdown",
   "metadata": {},
   "source": [
    "3. **Encontrar Palabras que Comienzan con 't'**: Imprime la primera palabra en la lista que comience con la letra 't'. Si no hay ninguna, imprime un mensaje indicando que no se encontró ninguna palabra que empiece con 't'."
   ]
  },
  {
   "cell_type": "code",
   "execution_count": null,
   "metadata": {},
   "outputs": [],
   "source": [
    "# OBJETIVO: Imprimir la primera palabra dentro de la lista que comience con la letra t en caso de que no exista imprimir mensaje que \n",
    "# indique que no hay ninguna palabra\n",
    "\n",
    "# Paso 1: Recorrer cada una de las plabras dentro de la lista words\n",
    "# Paso 2: Recorrer la primera letra de cada palabra\n",
    "# Paso 3: Validar si la primera letra es una t\n",
    "# Paso 4: Si encuentra una palabra que comiencenos con t imprimela y finalice la ejecucion\n",
    "# Paso 5: sino existe ninguna imprima que no encontro y finalicenles la ejecución"
   ]
  },
  {
   "cell_type": "code",
   "execution_count": 15,
   "metadata": {},
   "outputs": [
    {
     "name": "stdout",
     "output_type": "stream",
     "text": [
      "La primera palabra en la lista que comienza por t es: theatre\n"
     ]
    }
   ],
   "source": [
    "# Declaro la variable booleana finaliza en False\n",
    "finaliza = False\n",
    "tpalabra = \"\"\n",
    "# Comenzamos a recorrer la lista de palabras\n",
    "for palabra in words:\n",
    "    #Comenzamos a recorrer las letras de cada palabra\n",
    "    for letra in palabra:\n",
    "        # Aqui también se puede hacer uso de la función .Startwith('t')\n",
    "        if(letra == 't'):\n",
    "            print(f\"La primera palabra en la lista que comienza por t es: {palabra}\")\n",
    "            tpalabra = palabra\n",
    "            finaliza = True\n",
    "        break\n",
    "    if(finaliza):\n",
    "        break\n",
    "        \n",
    "if(len(tpalabra) == 0):\n",
    "    print(\"No existe ninguna palabra que comience por t en la lista\")"
   ]
  },
  {
   "cell_type": "markdown",
   "metadata": {},
   "source": [
    "4. **Contar las Vocales**: Escribe un programa que cuente y imprima el número total de vocales en todas las palabras de la lista."
   ]
  },
  {
   "cell_type": "code",
   "execution_count": null,
   "metadata": {},
   "outputs": [],
   "source": [
    "# tu pseudocodigo aquí"
   ]
  },
  {
   "cell_type": "code",
   "execution_count": 90,
   "metadata": {},
   "outputs": [
    {
     "name": "stdout",
     "output_type": "stream",
     "text": [
      "El númerous de vocales en la lista es de: 19\n"
     ]
    }
   ],
   "source": [
    "# Declaro una variable que guarde la cantidad total de vocales\n",
    "total_vocales = 0\n",
    "# Creo un string que contenga todas las vocales\n",
    "vocales = \"aeiou\"\n",
    "# Recorro todas las palabras de la lista\n",
    "for palabra in words:\n",
    "    # Recorro todas las letras dentro de las palabras de la lista\n",
    "    for letra in palabra:\n",
    "        # Valido si la letra está dentro de una vocal\n",
    "        if (letra in vocales):\n",
    "            # cuento el numero de vocales \n",
    "            total_vocales += 1\n",
    "# Imprimo un mensaje con el total de vocales en la lista\n",
    "print(f\"El númerous de vocales en la lista es de: {total_vocales}\")\n"
   ]
  },
  {
   "cell_type": "markdown",
   "metadata": {},
   "source": [
    "5. **Palabras que Contienen la Letra 'a'**: Crea una nueva lista que contenga solo las palabras que tengan la letra 'a'. Imprime esta nueva lista."
   ]
  },
  {
   "cell_type": "code",
   "execution_count": null,
   "metadata": {},
   "outputs": [],
   "source": [
    "# tu pseudocodigo aquí"
   ]
  },
  {
   "cell_type": "code",
   "execution_count": 92,
   "metadata": {},
   "outputs": [
    {
     "name": "stdout",
     "output_type": "stream",
     "text": [
      "La lista de palabras con la letra 'a' es: ['play', 'bar', 'theatre', 'easygoing', 'date', 'lead', 'that', 'island']\n"
     ]
    }
   ],
   "source": [
    "# Creo una nueva lista vacia para las palabras que contengan la vocal a\n",
    "lista_a = []\n",
    "# Recorro todas las palabras de la lista\n",
    "for palabra in words:\n",
    "    # Valido si la palabra tiene la letra a \n",
    "    if('a' in palabra):\n",
    "        # Agrego la palabra a la lista\n",
    "        lista_a.append(palabra)\n",
    "\n",
    "#Imprimo la lista con las palabras que contienen la letra a\n",
    "print(f\"La lista de palabras con la letra 'a' es: {lista_a}\")"
   ]
  },
  {
   "cell_type": "markdown",
   "metadata": {},
   "source": [
    "6. **Palabras en Orden Inverso**: Imprime la lista de palabras en orden inverso, de la última a la primera."
   ]
  },
  {
   "cell_type": "code",
   "execution_count": null,
   "metadata": {},
   "outputs": [],
   "source": [
    "# tu pseudocodigo aquí"
   ]
  },
  {
   "cell_type": "code",
   "execution_count": 19,
   "metadata": {},
   "outputs": [
    {
     "name": "stdout",
     "output_type": "stream",
     "text": [
      "island\n",
      "story\n",
      "that\n",
      "lead\n",
      "date\n",
      "easygoing\n",
      "theatre\n",
      "bar\n",
      "filling\n",
      "play\n"
     ]
    }
   ],
   "source": [
    "# tu codigo aquí\n",
    "for i in range(len(words) - 1, -1,-1):\n",
    "    print(words[i])"
   ]
  },
  {
   "cell_type": "markdown",
   "metadata": {},
   "source": [
    "## Numeros Primos"
   ]
  },
  {
   "cell_type": "markdown",
   "metadata": {},
   "source": [
    "1. **Lista de Números Primos**: \n",
    "   Crea una lista que contenga los números primos entre 1 y 20. Imprime la lista."
   ]
  },
  {
   "cell_type": "code",
   "execution_count": null,
   "metadata": {},
   "outputs": [],
   "source": [
    "# tu pseudocodigo aquí"
   ]
  },
  {
   "cell_type": "code",
   "execution_count": 52,
   "metadata": {},
   "outputs": [
    {
     "name": "stdout",
     "output_type": "stream",
     "text": [
      "[1, 2, 3, 5, 7, 11, 13, 17, 19]"
     ]
    }
   ],
   "source": [
    "# Declaro una lista vacía\n",
    "primos = []\n",
    "\n",
    "# Como sé que son los primeros 20, genero el rango hasta el 21, entendiendo que PY siempre lo hace hasta <\n",
    "for i in range(1,21):\n",
    "    # Parto de la hipótesis de que todos son primos\n",
    "    primo = True\n",
    "    # Hago las divisiones desde 2 hasta la mitad del número a evaluarse ya que después de la mitad siempre habrá residuos\n",
    "    for j in range(2,int(i/2) + 1):\n",
    "        # Valido que no tengo residuos al hacer la división\n",
    "        if(i%j == 0):\n",
    "            # sino hay residuos entonces no es un numero primo\n",
    "            primo = False\n",
    "            # rompo el bucle\n",
    "            break\n",
    "    # Valido si primo sigue siendo verdadero\n",
    "    if primo:\n",
    "        # lo agrego a la lista\n",
    "        primos.append(i)\n",
    "\n",
    "# imprimo la lista\n",
    "print(f\"{primos}\", end=\"\")\n",
    "            "
   ]
  },
  {
   "cell_type": "markdown",
   "metadata": {},
   "source": [
    "2. **Contar Números Primos**: \n",
    "   Escribe un programa que cuente cuántos números primos hay entre 1 y 30. Imprime el total."
   ]
  },
  {
   "cell_type": "code",
   "execution_count": null,
   "metadata": {},
   "outputs": [],
   "source": [
    "# tu pseudocodigo aquí"
   ]
  },
  {
   "cell_type": "code",
   "execution_count": 54,
   "metadata": {},
   "outputs": [
    {
     "name": "stdout",
     "output_type": "stream",
     "text": [
      "El numero total de primos del 1 al 30 son 11 y [1, 2, 3, 5, 7, 11, 13, 17, 19, 23, 29]\n"
     ]
    }
   ],
   "source": [
    "# Primero declaro el contador de numeros primos en 0\n",
    "total = 0\n",
    "i = 0\n",
    "j= 0\n",
    "todos = []\n",
    "\n",
    "# Comienzo a contar los numeros desde 1 hasta 30\n",
    "for i in range(1,31):\n",
    "    # Parto de la hipótesis de que todos los numeros son primos\n",
    "    primo = True\n",
    "    # comienzo a recorrer los divisores desde 2 hasta la mitad del numero a evaluar i/2\n",
    "    for j in range(2, int(i/2) + 1):\n",
    "        # Valido que no haya residuo en la division\n",
    "        if(i%j == 0):\n",
    "            primo = False\n",
    "            break\n",
    "    #Valido fuera del ciclo si el numero sigue siendo primo\n",
    "    if(primo):\n",
    "        # Hago el conteo de los numeros\n",
    "        todos.append(i)\n",
    "        total += 1\n",
    "\n",
    "print(f\"El numero total de primos del 1 al 30 son {total} y {todos}\")"
   ]
  },
  {
   "cell_type": "markdown",
   "metadata": {},
   "source": [
    "3. **Suma de Números Primos**: \n",
    "   Crea un programa que calcule la suma de los números primos menores de 50 y la imprima."
   ]
  },
  {
   "cell_type": "code",
   "execution_count": null,
   "metadata": {},
   "outputs": [],
   "source": [
    "# tu pseudocodigo aquí"
   ]
  },
  {
   "cell_type": "code",
   "execution_count": 84,
   "metadata": {},
   "outputs": [
    {
     "name": "stdout",
     "output_type": "stream",
     "text": [
      "La suma total de los primos menores a 51 es de: 329\n"
     ]
    }
   ],
   "source": [
    "# tu codigo aquí\n",
    "suma = 0\n",
    "i = 0\n",
    "\n",
    "for i in range(1,51):\n",
    "    primo = True\n",
    "    for j in range(2,int(i/2) + 1):\n",
    "        if(i%j == 0):\n",
    "            primo = False\n",
    "            break\n",
    "    if(primo):\n",
    "        suma += i\n",
    "\n",
    "print(f\"La suma total de los primos menores a 51 es de: {suma}\")"
   ]
  },
  {
   "cell_type": "markdown",
   "metadata": {},
   "source": [
    "4. **Verificar si un Número es Primo**: \n",
    "   Escribe un programa que pida al usuario un número y que determine si es primo. Imprime un mensaje indicando si el número es primo o no."
   ]
  },
  {
   "cell_type": "code",
   "execution_count": null,
   "metadata": {},
   "outputs": [],
   "source": [
    "# tu pseudocodigo aquí"
   ]
  },
  {
   "cell_type": "code",
   "execution_count": 122,
   "metadata": {},
   "outputs": [
    {
     "name": "stdin",
     "output_type": "stream",
     "text": [
      "Escribe el número entero que quieres validar:  4\n"
     ]
    },
    {
     "name": "stdout",
     "output_type": "stream",
     "text": [
      "2\n",
      "4 no es primo\n"
     ]
    }
   ],
   "source": [
    "numero = int(input(\"Escribe el número entero que quieres validar: \"))\n",
    "primo = True\n",
    "    \n",
    "for i in range(2,int(numero/2) + 1):\n",
    "    if(numero%i == 0):\n",
    "        print(i)\n",
    "        primo = False\n",
    "        break\n",
    "\n",
    "if(primo):\n",
    "    print(f\"{numero} es primo\")\n",
    "else:\n",
    "    print(f\"{numero} no es primo\")\n"
   ]
  },
  {
   "cell_type": "markdown",
   "metadata": {},
   "source": [
    "5. **Primos Menores a un Número**: \n",
    "   Crea un programa que pida al usuario un número y que imprima todos los números primos menores que ese número."
   ]
  },
  {
   "cell_type": "code",
   "execution_count": null,
   "metadata": {},
   "outputs": [],
   "source": [
    "# tu pseudocodigo aquí"
   ]
  },
  {
   "cell_type": "code",
   "execution_count": 134,
   "metadata": {},
   "outputs": [
    {
     "name": "stdin",
     "output_type": "stream",
     "text": [
      "Ingrese el númerous:  11\n"
     ]
    },
    {
     "name": "stdout",
     "output_type": "stream",
     "text": [
      "Los numeros primos son: [1, 2, 3, 5, 7]\n"
     ]
    }
   ],
   "source": [
    "# tu codigo aquí\n",
    "numero = int(input(\"Ingrese el númerous: \"))\n",
    "lista = []\n",
    "\n",
    "for i in range(1, numero):\n",
    "    primo = True\n",
    "    for j in range(2, int(i/2) + 1):\n",
    "        if(i%j == 0):\n",
    "            primo = False\n",
    "            break\n",
    "    if(primo):\n",
    "        lista.append(i)\n",
    "\n",
    "print(f\"Los numeros primos son: {lista}\")"
   ]
  },
  {
   "cell_type": "markdown",
   "metadata": {},
   "source": [
    "6. **Lista de Primos en un Rango**: \n",
    "   Crea un programa que genere e imprima los números primos entre 10 y 50."
   ]
  },
  {
   "cell_type": "code",
   "execution_count": null,
   "metadata": {},
   "outputs": [],
   "source": [
    "# tu pseudocodigo aquí"
   ]
  },
  {
   "cell_type": "code",
   "execution_count": 140,
   "metadata": {},
   "outputs": [
    {
     "name": "stdin",
     "output_type": "stream",
     "text": [
      "ingrese rango inferior:  15\n",
      "ingrese rango superior:  21\n"
     ]
    },
    {
     "name": "stdout",
     "output_type": "stream",
     "text": [
      "Los numeros primos son: [17, 19]\n"
     ]
    }
   ],
   "source": [
    "# tu codigo aquí\n",
    "r1 = int(input(\"ingrese rango inferior: \"))\n",
    "r2 = int(input(\"ingrese rango superior: \"))\n",
    "lista = []\n",
    "\n",
    "for i in range(r1,r2):\n",
    "    primo = True\n",
    "    for j in range(2, int(i/2)+1):\n",
    "        if(i%j == 0):\n",
    "            primo = False\n",
    "            break\n",
    "    if(primo):\n",
    "        lista.append(i)\n",
    "\n",
    "print(f\"Los numeros primos son: {lista}\")"
   ]
  },
  {
   "cell_type": "markdown",
   "metadata": {},
   "source": [
    "## People\n",
    "\n",
    "Dada la siguiente lista de personas:"
   ]
  },
  {
   "cell_type": "code",
   "execution_count": 156,
   "metadata": {},
   "outputs": [],
   "source": [
    "people = [\n",
    "    {\n",
    "        \"name\": \"Juan\",\n",
    "        \"age\": 34,\n",
    "        \"n_kids\": 2,\n",
    "        \"city\": \"Madrid\"\n",
    "    },\n",
    "    {\n",
    "        \"name\": \"Pepe\",\n",
    "        \"age\": 27,\n",
    "        \"n_kids\": 0,\n",
    "        \"city\": \"Barcelona\"\n",
    "    },\n",
    "    {\n",
    "        \"name\": \"Sonia\",\n",
    "        \"age\": 41,\n",
    "        \"n_kids\": 1,\n",
    "        \"city\": \"Valencia\"\n",
    "    },\n",
    "    {\n",
    "        \"name\": \"Lucía\",\n",
    "        \"age\": 22,\n",
    "        \"n_kids\": 2,\n",
    "        \"city\": \"Sevilla\"\n",
    "    },\n",
    "    {\n",
    "        \"name\": \"Leo\",\n",
    "        \"age\": 55,\n",
    "        \"n_kids\": 5,\n",
    "        \"city\": \"Bilbao\"\n",
    "    },\n",
    "    {\n",
    "        \"name\": \"Marta\",\n",
    "        \"age\": 30,\n",
    "        \"n_kids\": 3,\n",
    "        \"city\": \"Zaragoza\"\n",
    "    },\n",
    "    {\n",
    "        \"name\": \"Carlos\",\n",
    "        \"age\": 45,\n",
    "        \"n_kids\": 0,\n",
    "        \"city\": \"Granada\"\n",
    "    }\n",
    "]"
   ]
  },
  {
   "cell_type": "markdown",
   "metadata": {},
   "source": [
    "1. **Contar Personas**: \n",
    "   Escribe un programa que cuente cuántas personas hay en la lista `people`. Imprime el total."
   ]
  },
  {
   "cell_type": "code",
   "execution_count": null,
   "metadata": {},
   "outputs": [],
   "source": [
    "# tu pseudocodigo aquí"
   ]
  },
  {
   "cell_type": "code",
   "execution_count": 148,
   "metadata": {},
   "outputs": [
    {
     "name": "stdout",
     "output_type": "stream",
     "text": [
      "Hay 7 en la lista\n"
     ]
    }
   ],
   "source": [
    "# tu codigo aquí\n",
    "total = len(people)\n",
    "print(f\"Hay {total} en la lista\")"
   ]
  },
  {
   "cell_type": "markdown",
   "metadata": {},
   "source": [
    "2. **Contar Personas con Hijos**: \n",
    "   Crea un programa que cuente cuántas personas tienen al menos un hijo. Imprime el número de estas personas."
   ]
  },
  {
   "cell_type": "code",
   "execution_count": null,
   "metadata": {},
   "outputs": [],
   "source": [
    "# tu pseudocodigo aquí"
   ]
  },
  {
   "cell_type": "code",
   "execution_count": 160,
   "metadata": {},
   "outputs": [
    {
     "name": "stdout",
     "output_type": "stream",
     "text": [
      "Hay 5 personas con hijos\n"
     ]
    }
   ],
   "source": [
    "# tu codigo aquí\n",
    "conteo = 0\n",
    "\n",
    "for persona in people:\n",
    "    if(persona[\"n_kids\"] > 0):\n",
    "        conteo += 1\n",
    "\n",
    "print(f\"Hay {conteo} personas con hijos\")"
   ]
  },
  {
   "cell_type": "markdown",
   "metadata": {},
   "source": [
    "3. **Contar Hijos Totales**: \n",
    "   Escribe un programa que calcule cuántos hijos hay en total entre todas las personas de la lista. Imprime el total."
   ]
  },
  {
   "cell_type": "code",
   "execution_count": null,
   "metadata": {},
   "outputs": [],
   "source": [
    "# tu pseudocodigo aquí"
   ]
  },
  {
   "cell_type": "code",
   "execution_count": 162,
   "metadata": {},
   "outputs": [
    {
     "name": "stdout",
     "output_type": "stream",
     "text": [
      "Hay 13 hijos en total\n"
     ]
    }
   ],
   "source": [
    "# tu codigo aquí\n",
    "total = 0\n",
    "\n",
    "for p in people:\n",
    "    total += p[\"n_kids\"]\n",
    "\n",
    "print(f\"Hay {total} hijos en total\")"
   ]
  },
  {
   "cell_type": "markdown",
   "metadata": {},
   "source": [
    "4. **Promedio de Edad**: \n",
    "   Calcula y muestra la edad promedio de las personas en la lista."
   ]
  },
  {
   "cell_type": "code",
   "execution_count": null,
   "metadata": {},
   "outputs": [],
   "source": [
    "# tu pseudocodigo aquí"
   ]
  },
  {
   "cell_type": "code",
   "execution_count": 172,
   "metadata": {},
   "outputs": [
    {
     "name": "stdout",
     "output_type": "stream",
     "text": [
      "254\n",
      "7\n",
      "La edad promedio es de 36.285714285714285 \n"
     ]
    }
   ],
   "source": [
    "# tu codigo aquí\n",
    "prom = 0\n",
    "total = 0\n",
    "\n",
    "for p in people:\n",
    "    total += p[\"age\"]\n",
    "\n",
    "print(total)\n",
    "print(len(people))\n",
    "\n",
    "prom = (total / len(people))\n",
    "print(f\"La edad promedio es de {prom} \")    "
   ]
  },
  {
   "cell_type": "markdown",
   "metadata": {},
   "source": [
    "5. **Lista de Personas que Terminan en 'a'**: \n",
    "   Genera una lista con los nombres de las personas cuyo nombre termina en \"a\". Imprime esta lista."
   ]
  },
  {
   "cell_type": "code",
   "execution_count": null,
   "metadata": {},
   "outputs": [],
   "source": [
    "# tu pseudocodigo aquí"
   ]
  },
  {
   "cell_type": "code",
   "execution_count": 174,
   "metadata": {},
   "outputs": [
    {
     "name": "stdout",
     "output_type": "stream",
     "text": [
      "Las personas que terminan con a son ['Sonia', 'Lucía', 'Marta']\n"
     ]
    }
   ],
   "source": [
    "# tu codigo aquí\n",
    "lista = []\n",
    "\n",
    "for p in people:\n",
    "    if(p[\"name\"].endswith(\"a\")):\n",
    "        lista.append(p[\"name\"])\n",
    "\n",
    "print(f\"Las personas que terminan con a son {lista}\")"
   ]
  },
  {
   "cell_type": "markdown",
   "metadata": {},
   "source": [
    "6. **Actualizar Información por Año**: \n",
    "   En un año, las personas cuyos nombres terminan en \"a\" tendrán un niño extra. Crea una nueva lista de diccionarios con la información actualizada de las personas (edad incrementada en 1 y `n_kids` aumentado en 1 para las que terminan en \"a\"). Imprime esta nueva lista."
   ]
  },
  {
   "cell_type": "code",
   "execution_count": null,
   "metadata": {},
   "outputs": [],
   "source": [
    "# tu pseudocodigo aquí"
   ]
  },
  {
   "cell_type": "code",
   "execution_count": 186,
   "metadata": {},
   "outputs": [
    {
     "data": {
      "text/plain": [
       "[{'name': 'Juan', 'age': 35, 'n_kids': 2, 'city': 'Madrid'},\n",
       " {'name': 'Pepe', 'age': 28, 'n_kids': 0, 'city': 'Barcelona'},\n",
       " {'name': 'Sonia', 'age': 42, 'n_kids': 2, 'city': 'Valencia'},\n",
       " {'name': 'Lucía', 'age': 23, 'n_kids': 3, 'city': 'Sevilla'},\n",
       " {'name': 'Leo', 'age': 56, 'n_kids': 5, 'city': 'Bilbao'},\n",
       " {'name': 'Marta', 'age': 31, 'n_kids': 4, 'city': 'Zaragoza'},\n",
       " {'name': 'Carlos', 'age': 46, 'n_kids': 0, 'city': 'Granada'}]"
      ]
     },
     "execution_count": 186,
     "metadata": {},
     "output_type": "execute_result"
    }
   ],
   "source": [
    "# tu codigo aquí\n",
    "Npeople = []\n",
    "\n",
    "for p in people:\n",
    "    actualizado = p.copy()\n",
    "    if(p[\"name\"].endswith(\"a\")):\n",
    "        actualizado[\"n_kids\"] += 1\n",
    "    actualizado[\"age\"] += 1\n",
    "    Npeople.append(actualizado)\n",
    "        \n",
    "\n",
    "Npeople"
   ]
  },
  {
   "cell_type": "code",
   "execution_count": null,
   "metadata": {},
   "outputs": [],
   "source": []
  }
 ],
 "metadata": {
  "kernelspec": {
   "display_name": "Python 3 (ipykernel)",
   "language": "python",
   "name": "python3"
  },
  "language_info": {
   "codemirror_mode": {
    "name": "ipython",
    "version": 3
   },
   "file_extension": ".py",
   "mimetype": "text/x-python",
   "name": "python",
   "nbconvert_exporter": "python",
   "pygments_lexer": "ipython3",
   "version": "3.12.4"
  },
  "toc": {
   "base_numbering": 1,
   "nav_menu": {},
   "number_sections": false,
   "sideBar": true,
   "skip_h1_title": false,
   "title_cell": "Table of Contents",
   "title_sidebar": "Contents",
   "toc_cell": false,
   "toc_position": {},
   "toc_section_display": true,
   "toc_window_display": true
  },
  "varInspector": {
   "cols": {
    "lenName": 16,
    "lenType": 16,
    "lenVar": 40
   },
   "kernels_config": {
    "python": {
     "delete_cmd_postfix": "",
     "delete_cmd_prefix": "del ",
     "library": "var_list.py",
     "varRefreshCmd": "print(var_dic_list())"
    },
    "r": {
     "delete_cmd_postfix": ") ",
     "delete_cmd_prefix": "rm(",
     "library": "var_list.r",
     "varRefreshCmd": "cat(var_dic_list()) "
    }
   },
   "types_to_exclude": [
    "module",
    "function",
    "builtin_function_or_method",
    "instance",
    "_Feature"
   ],
   "window_display": false
  },
  "vscode": {
   "interpreter": {
    "hash": "aee8b7b246df8f9039afb4144a1f6fd8d2ca17a180786b69acc140d282b71a49"
   }
  }
 },
 "nbformat": 4,
 "nbformat_minor": 4
}
